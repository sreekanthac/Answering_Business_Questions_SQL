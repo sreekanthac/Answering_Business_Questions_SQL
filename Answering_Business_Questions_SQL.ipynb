{
 "cells": [
  {
   "cell_type": "markdown",
   "metadata": {},
   "source": [
    "# Business Insights with SQL\n",
    "\n",
    "In this project we will work with data from the [Chinook database](https://github.com/lerocha/chinook-database). The Chinook database contains information about a fictional digital music shop such as data about the artists, songs, playlists, music genres and albums from the music shop, as well as information on the shop's employees, customers, and the customers purchases.\n",
    "\n",
    "Just as a curiosity, the database's name is inspired in another database, the Northwind database. According to its creator, the Chinook database is named after the winds in the interior West of North America, where the Canadian Prairies and Great Plains meet various mountain ranges. The Chinooks are most common over southern Alberta in Canada and that is why he thought it would be I good name for a database that intented to be an alternative to Northwind.\n",
    "\n",
    "With all information that Chinook contains, there is an infinity of answers we could get out of this database. Therefore, the main goal of this project, is to write some queries to demonstrate some of the insights we can get from the data and how they could be applied to the real world.\n",
    "\n",
    "For the sake of simplicity, we'll assume that the fictional digital music shop is also named Chinook.\n",
    "\n",
    "![image](music.jpg)\n",
    "\n",
    "[Image source ](https://www.freepik.com/search?dates=any&page=1&query=music&sort=popular)"
   ]
  },
  {
   "cell_type": "markdown",
   "metadata": {},
   "source": [
    "# The setup"
   ]
  },
  {
   "cell_type": "code",
   "execution_count": 23,
   "metadata": {},
   "outputs": [],
   "source": [
    "%%capture\n",
    "%load_ext sql\n",
    "%sql sqlite:///chinook.db"
   ]
  },
  {
   "cell_type": "markdown",
   "metadata": {},
   "source": [
    "# Understanding the database\n",
    "\n",
    "The Chinook database contains eleven tables and every table is connected to one another. The following schema diagram will help us to understand the tables in this database as well as their relatioships to each other:\n",
    "\n",
    "<img align=\"left\" src = \"chinook-schema.svg\" width=\"800\" height=\"500\"/>"
   ]
  },
  {
   "cell_type": "code",
   "execution_count": 24,
   "metadata": {},
   "outputs": [
    {
     "name": "stdout",
     "output_type": "stream",
     "text": [
      " * sqlite:///chinook.db\n",
      "Done.\n"
     ]
    },
    {
     "data": {
      "text/html": [
       "<table>\n",
       "    <tr>\n",
       "        <th>name</th>\n",
       "        <th>type</th>\n",
       "    </tr>\n",
       "    <tr>\n",
       "        <td>album</td>\n",
       "        <td>table</td>\n",
       "    </tr>\n",
       "    <tr>\n",
       "        <td>artist</td>\n",
       "        <td>table</td>\n",
       "    </tr>\n",
       "    <tr>\n",
       "        <td>customer</td>\n",
       "        <td>table</td>\n",
       "    </tr>\n",
       "    <tr>\n",
       "        <td>employee</td>\n",
       "        <td>table</td>\n",
       "    </tr>\n",
       "    <tr>\n",
       "        <td>genre</td>\n",
       "        <td>table</td>\n",
       "    </tr>\n",
       "    <tr>\n",
       "        <td>invoice</td>\n",
       "        <td>table</td>\n",
       "    </tr>\n",
       "    <tr>\n",
       "        <td>invoice_line</td>\n",
       "        <td>table</td>\n",
       "    </tr>\n",
       "    <tr>\n",
       "        <td>media_type</td>\n",
       "        <td>table</td>\n",
       "    </tr>\n",
       "    <tr>\n",
       "        <td>playlist</td>\n",
       "        <td>table</td>\n",
       "    </tr>\n",
       "    <tr>\n",
       "        <td>playlist_track</td>\n",
       "        <td>table</td>\n",
       "    </tr>\n",
       "    <tr>\n",
       "        <td>track</td>\n",
       "        <td>table</td>\n",
       "    </tr>\n",
       "</table>"
      ],
      "text/plain": [
       "[('album', 'table'),\n",
       " ('artist', 'table'),\n",
       " ('customer', 'table'),\n",
       " ('employee', 'table'),\n",
       " ('genre', 'table'),\n",
       " ('invoice', 'table'),\n",
       " ('invoice_line', 'table'),\n",
       " ('media_type', 'table'),\n",
       " ('playlist', 'table'),\n",
       " ('playlist_track', 'table'),\n",
       " ('track', 'table')]"
      ]
     },
     "execution_count": 24,
     "metadata": {},
     "output_type": "execute_result"
    }
   ],
   "source": [
    "%%sql\n",
    "SELECT \n",
    "    name, type\n",
    "    FROM sqlite_master\n",
    "    WHERE type='table';"
   ]
  },
  {
   "cell_type": "markdown",
   "metadata": {},
   "source": [
    "# Analyse the performace of sales support agents \n",
    "\n",
    "Each customer for the Chinook store gets assigned to a sales support agent within the company when they first make a purchase. We can now analyze the purchases of customers belonging to each employee to see if any sales support agent is performing either better or worse than the others.\n",
    "\n",
    "To do so we will find out the total sales done by each employee. To calculate the efficiency, we will find out the agents experience and then divide their total sales with their experience."
   ]
  },
  {
   "cell_type": "code",
   "execution_count": 25,
   "metadata": {},
   "outputs": [
    {
     "name": "stdout",
     "output_type": "stream",
     "text": [
      " * sqlite:///chinook.db\n",
      "Done.\n"
     ]
    },
    {
     "data": {
      "text/html": [
       "<table>\n",
       "    <tr>\n",
       "        <th>employer_name</th>\n",
       "        <th>total_sales</th>\n",
       "        <th>experience_months</th>\n",
       "        <th>efficiency</th>\n",
       "    </tr>\n",
       "    <tr>\n",
       "        <td>Jane Peacock</td>\n",
       "        <td>1731.51</td>\n",
       "        <td>38</td>\n",
       "        <td>45.57</td>\n",
       "    </tr>\n",
       "    <tr>\n",
       "        <td>Steve Johnson</td>\n",
       "        <td>1393.92</td>\n",
       "        <td>31</td>\n",
       "        <td>44.97</td>\n",
       "    </tr>\n",
       "    <tr>\n",
       "        <td>Margaret Park</td>\n",
       "        <td>1584.0</td>\n",
       "        <td>37</td>\n",
       "        <td>42.81</td>\n",
       "    </tr>\n",
       "</table>"
      ],
      "text/plain": [
       "[('Jane Peacock', 1731.51, 38, 45.57),\n",
       " ('Steve Johnson', 1393.92, 31, 44.97),\n",
       " ('Margaret Park', 1584.0, 37, 42.81)]"
      ]
     },
     "execution_count": 25,
     "metadata": {},
     "output_type": "execute_result"
    }
   ],
   "source": [
    "%%sql\n",
    "\n",
    "SELECT\n",
    "    e.first_name || ' ' || e.last_name AS employer_name,\n",
    "    ROUND(SUM(i.total),2) AS total_sales,\n",
    "    (CAST(julianday('now') -julianday(e.hire_date) AS INTEGER)) / 30 AS experience_months,\n",
    "    ROUND(ROUND(SUM(i.total),2) / ((CAST(julianday('now') -julianday(e.hire_date) as INTEGER)) / 30), 2) as efficiency\n",
    "    FROM employee AS e\n",
    "    INNER JOIN customer AS c ON c.support_rep_id = e.employee_id\n",
    "    INNER JOIN invoice AS i ON i.customer_id = c.customer_id\n",
    "    GROUP BY employer_name\n",
    "    ORDER BY efficiency DESC;"
   ]
  },
  {
   "cell_type": "markdown",
   "metadata": {
    "collapsed": true
   },
   "source": [
    "From the above table we can easily find out the performace of the agents."
   ]
  },
  {
   "cell_type": "markdown",
   "metadata": {},
   "source": [
    "# Analyzing Sales by Country\n",
    "\n",
    "Now we will analyse sales by country.\n",
    "\n",
    "The next query returns data on purchases from different countries. We will be able to see the total amount of sales as well as the average amount of dollar per customer and the average order value.\n",
    "\n",
    "Notice that countries with only one costumer is grouped as 'Other'."
   ]
  },
  {
   "cell_type": "code",
   "execution_count": 53,
   "metadata": {},
   "outputs": [
    {
     "name": "stdout",
     "output_type": "stream",
     "text": [
      " * sqlite:///chinook.db\n",
      "Done.\n"
     ]
    },
    {
     "data": {
      "text/html": [
       "<table>\n",
       "    <tr>\n",
       "        <th>country</th>\n",
       "        <th>total_customers</th>\n",
       "        <th>total_sales</th>\n",
       "        <th>average_value_per_customer</th>\n",
       "        <th>average_order_per_customer</th>\n",
       "    </tr>\n",
       "    <tr>\n",
       "        <td>USA</td>\n",
       "        <td>13</td>\n",
       "        <td>1040.49</td>\n",
       "        <td>80.03769230769231</td>\n",
       "        <td>7.942671755725191</td>\n",
       "    </tr>\n",
       "    <tr>\n",
       "        <td>Canada</td>\n",
       "        <td>8</td>\n",
       "        <td>535.59</td>\n",
       "        <td>66.94875</td>\n",
       "        <td>7.047236842105264</td>\n",
       "    </tr>\n",
       "    <tr>\n",
       "        <td>Brazil</td>\n",
       "        <td>5</td>\n",
       "        <td>427.67999999999995</td>\n",
       "        <td>85.53599999999999</td>\n",
       "        <td>7.011147540983606</td>\n",
       "    </tr>\n",
       "    <tr>\n",
       "        <td>France</td>\n",
       "        <td>5</td>\n",
       "        <td>389.07</td>\n",
       "        <td>77.814</td>\n",
       "        <td>7.7814</td>\n",
       "    </tr>\n",
       "    <tr>\n",
       "        <td>Germany</td>\n",
       "        <td>4</td>\n",
       "        <td>334.62</td>\n",
       "        <td>83.655</td>\n",
       "        <td>8.161463414634147</td>\n",
       "    </tr>\n",
       "    <tr>\n",
       "        <td>Czech Republic</td>\n",
       "        <td>2</td>\n",
       "        <td>273.24</td>\n",
       "        <td>136.62</td>\n",
       "        <td>9.108</td>\n",
       "    </tr>\n",
       "    <tr>\n",
       "        <td>United Kingdom</td>\n",
       "        <td>3</td>\n",
       "        <td>245.51999999999998</td>\n",
       "        <td>81.83999999999999</td>\n",
       "        <td>8.768571428571429</td>\n",
       "    </tr>\n",
       "    <tr>\n",
       "        <td>Portugal</td>\n",
       "        <td>2</td>\n",
       "        <td>185.13</td>\n",
       "        <td>92.565</td>\n",
       "        <td>6.3837931034482756</td>\n",
       "    </tr>\n",
       "    <tr>\n",
       "        <td>India</td>\n",
       "        <td>2</td>\n",
       "        <td>183.14999999999998</td>\n",
       "        <td>91.57499999999999</td>\n",
       "        <td>8.72142857142857</td>\n",
       "    </tr>\n",
       "    <tr>\n",
       "        <td>other</td>\n",
       "        <td>15</td>\n",
       "        <td>1094.9399999999998</td>\n",
       "        <td>72.996</td>\n",
       "        <td>7.4485714285714275</td>\n",
       "    </tr>\n",
       "</table>"
      ],
      "text/plain": [
       "[('USA', 13, 1040.49, 80.03769230769231, 7.942671755725191),\n",
       " ('Canada', 8, 535.59, 66.94875, 7.047236842105264),\n",
       " ('Brazil', 5, 427.67999999999995, 85.53599999999999, 7.011147540983606),\n",
       " ('France', 5, 389.07, 77.814, 7.7814),\n",
       " ('Germany', 4, 334.62, 83.655, 8.161463414634147),\n",
       " ('Czech Republic', 2, 273.24, 136.62, 9.108),\n",
       " ('United Kingdom', 3, 245.51999999999998, 81.83999999999999, 8.768571428571429),\n",
       " ('Portugal', 2, 185.13, 92.565, 6.3837931034482756),\n",
       " ('India', 2, 183.14999999999998, 91.57499999999999, 8.72142857142857),\n",
       " ('other', 15, 1094.9399999999998, 72.996, 7.4485714285714275)]"
      ]
     },
     "execution_count": 53,
     "metadata": {},
     "output_type": "execute_result"
    }
   ],
   "source": [
    "%%sql\n",
    "\n",
    "/* Table that counts the number of invoices and sums the total purchase made\n",
    "by each customer */\n",
    "\n",
    "WITH information AS\n",
    "(\n",
    "    SELECT \n",
    "        c.customer_id,\n",
    "        COUNT(i.invoice_id) AS purchase,\n",
    "        c.country,\n",
    "        SUM(i.total) AS total\n",
    "        FROM customer AS c\n",
    "        INNER JOIN invoice AS i ON i.customer_id = c.customer_id\n",
    "        GROUP BY c.customer_id\n",
    "),\n",
    "\n",
    "/* Table to classify the country as \"other\" when the country has only \n",
    "one customer */\n",
    "\n",
    "country_classifier AS\n",
    "(\n",
    "    SELECT \n",
    "        country,\n",
    "        SUM(total) AS country_total,\n",
    "        SUM(purchase) AS country_purchase,\n",
    "        COUNT(customer_id) AS num_of_customers,\n",
    "        CASE\n",
    "            WHEN COUNT(customer_id) = 1 THEN 'other'\n",
    "            ELSE country\n",
    "        END AS new_country\n",
    "        FROM information\n",
    "        GROUP BY country\n",
    "        ORDER BY country_total DESC\n",
    ")\n",
    "\n",
    "/* Here we will select all the required columns. In order to keep the 'other'\n",
    "row as the last row we use a CASE statement.*/\n",
    "\n",
    "SELECT \n",
    "    country,\n",
    "    total_customers,\n",
    "    total_sales, \n",
    "    average_value_per_customer,\n",
    "    average_order_per_customer\n",
    "    FROM \n",
    "        (\n",
    "        SELECT\n",
    "            new_country AS country,\n",
    "            SUM(num_of_customers) AS  total_customers,\n",
    "            SUM(country_total) AS total_sales,\n",
    "            SUM(country_total) / SUM(country_purchase) AS average_order_per_customer,\n",
    "            SUM(country_total) / SUM(num_of_customers) AS average_value_per_customer,\n",
    "            CASE\n",
    "                WHEN new_country = \"other\" THEN 1\n",
    "                ELSE 0\n",
    "            END AS sort\n",
    "            FROM country_classifier\n",
    "            GROUP BY new_country\n",
    "            ORDER BY sort ASC, total_sales DESC\n",
    "        )"
   ]
  },
  {
   "cell_type": "markdown",
   "metadata": {},
   "source": [
    "The sample size here is not good enough, but if we have more data this query can provide some useful insights. For instance,  we can visualize which countries are already an established market for the company and also have an idea of which countries have more potential to become a successful market. For example, a country  although do not present a large amount of total sales, based on the present high average values per costumer and per order can be considered as promising markets.\n",
    "\n",
    "Such insights are helpful for the company to decide the promising markets and the bugdet that needs to be allocated for such markets."
   ]
  },
  {
   "cell_type": "markdown",
   "metadata": {},
   "source": [
    "# Constomer preferences\n",
    "\n",
    "Here we will focus on the preference of the customers such as the most popular genres and artists. This can be also really helpful for the company to decide on which genres and artists should they allocate more budget.\n",
    "\n",
    "Since the company's target markets are country based, it is sensible to filter our query also country wise. \n",
    "\n",
    "# Popular genres in USA\n",
    "\n",
    "For our example, we will consider USA as our target market and identify the popular genres and the artists.\n",
    "\n",
    "PS: Country information can be obtained from two tables customer and invoice. There could be instances where a customer can have one coutry in customer table and another as billing country in invoice table. To avoid this problem, in our example, we are fetching country information from customer data."
   ]
  },
  {
   "cell_type": "code",
   "execution_count": 54,
   "metadata": {},
   "outputs": [
    {
     "name": "stdout",
     "output_type": "stream",
     "text": [
      " * sqlite:///chinook.db\n",
      "Done.\n"
     ]
    },
    {
     "data": {
      "text/html": [
       "<table>\n",
       "    <tr>\n",
       "        <th>genre_name</th>\n",
       "        <th>absolute_count</th>\n",
       "        <th>percentage</th>\n",
       "    </tr>\n",
       "    <tr>\n",
       "        <td>Rock</td>\n",
       "        <td>561</td>\n",
       "        <td>0.5337773549000951</td>\n",
       "    </tr>\n",
       "    <tr>\n",
       "        <td>Alternative &amp; Punk</td>\n",
       "        <td>130</td>\n",
       "        <td>0.12369172216936251</td>\n",
       "    </tr>\n",
       "    <tr>\n",
       "        <td>Metal</td>\n",
       "        <td>124</td>\n",
       "        <td>0.11798287345385347</td>\n",
       "    </tr>\n",
       "    <tr>\n",
       "        <td>R&amp;B/Soul</td>\n",
       "        <td>53</td>\n",
       "        <td>0.05042816365366318</td>\n",
       "    </tr>\n",
       "    <tr>\n",
       "        <td>Blues</td>\n",
       "        <td>36</td>\n",
       "        <td>0.03425309229305423</td>\n",
       "    </tr>\n",
       "    <tr>\n",
       "        <td>Alternative</td>\n",
       "        <td>35</td>\n",
       "        <td>0.03330161750713606</td>\n",
       "    </tr>\n",
       "    <tr>\n",
       "        <td>Pop</td>\n",
       "        <td>22</td>\n",
       "        <td>0.02093244529019981</td>\n",
       "    </tr>\n",
       "    <tr>\n",
       "        <td>Latin</td>\n",
       "        <td>22</td>\n",
       "        <td>0.02093244529019981</td>\n",
       "    </tr>\n",
       "    <tr>\n",
       "        <td>Hip Hop/Rap</td>\n",
       "        <td>20</td>\n",
       "        <td>0.019029495718363463</td>\n",
       "    </tr>\n",
       "    <tr>\n",
       "        <td>Jazz</td>\n",
       "        <td>14</td>\n",
       "        <td>0.013320647002854425</td>\n",
       "    </tr>\n",
       "</table>"
      ],
      "text/plain": [
       "[('Rock', 561, 0.5337773549000951),\n",
       " ('Alternative & Punk', 130, 0.12369172216936251),\n",
       " ('Metal', 124, 0.11798287345385347),\n",
       " ('R&B/Soul', 53, 0.05042816365366318),\n",
       " ('Blues', 36, 0.03425309229305423),\n",
       " ('Alternative', 35, 0.03330161750713606),\n",
       " ('Pop', 22, 0.02093244529019981),\n",
       " ('Latin', 22, 0.02093244529019981),\n",
       " ('Hip Hop/Rap', 20, 0.019029495718363463),\n",
       " ('Jazz', 14, 0.013320647002854425)]"
      ]
     },
     "execution_count": 54,
     "metadata": {},
     "output_type": "execute_result"
    }
   ],
   "source": [
    "%%sql\n",
    "\n",
    "/* Table that filters customers from USA */\n",
    "\n",
    "WITH usa AS\n",
    "    (\n",
    "     SELECT invl.*\n",
    "        FROM customer AS c\n",
    "        INNER JOIN invoice AS i ON i.customer_id = c.customer_id\n",
    "        INNER JOIN invoice_line AS invl ON invl.invoice_id = i.invoice_id\n",
    "        WHERE c.country = 'USA'\n",
    "    )\n",
    "SELECT\n",
    "    g.name AS genre_name,\n",
    "    COUNT(*) AS absolute_count,\n",
    "    CAST(COUNT(usa.invoice_id)AS FLOAT) / (SELECT COUNT(*) FROM usa) as percentage\n",
    "    FROM usa\n",
    "    INNER JOIN track AS t ON t.track_id = usa.track_id\n",
    "    INNER JOIN genre AS g on g.genre_id = t.genre_id\n",
    "    GROUP BY g.name\n",
    "    ORDER BY absolute_count DESC\n",
    "    LIMIT 10;"
   ]
  },
  {
   "cell_type": "markdown",
   "metadata": {},
   "source": [
    "# Most popular artists in USA\n",
    "\n",
    "Next we will identify the most popular artists in USA."
   ]
  },
  {
   "cell_type": "code",
   "execution_count": 55,
   "metadata": {},
   "outputs": [
    {
     "name": "stdout",
     "output_type": "stream",
     "text": [
      " * sqlite:///chinook.db\n",
      "Done.\n"
     ]
    },
    {
     "data": {
      "text/html": [
       "<table>\n",
       "    <tr>\n",
       "        <th>artist_name</th>\n",
       "        <th>times_purchased</th>\n",
       "    </tr>\n",
       "    <tr>\n",
       "        <td>Van Halen</td>\n",
       "        <td>43</td>\n",
       "    </tr>\n",
       "    <tr>\n",
       "        <td>R.E.M.</td>\n",
       "        <td>38</td>\n",
       "    </tr>\n",
       "    <tr>\n",
       "        <td>The Rolling Stones</td>\n",
       "        <td>37</td>\n",
       "    </tr>\n",
       "    <tr>\n",
       "        <td>Nirvana</td>\n",
       "        <td>35</td>\n",
       "    </tr>\n",
       "    <tr>\n",
       "        <td>Foo Fighters</td>\n",
       "        <td>34</td>\n",
       "    </tr>\n",
       "    <tr>\n",
       "        <td>Eric Clapton</td>\n",
       "        <td>34</td>\n",
       "    </tr>\n",
       "    <tr>\n",
       "        <td>Guns N&#x27; Roses</td>\n",
       "        <td>32</td>\n",
       "    </tr>\n",
       "    <tr>\n",
       "        <td>Green Day</td>\n",
       "        <td>32</td>\n",
       "    </tr>\n",
       "    <tr>\n",
       "        <td>Pearl Jam</td>\n",
       "        <td>31</td>\n",
       "    </tr>\n",
       "    <tr>\n",
       "        <td>Amy Winehouse</td>\n",
       "        <td>30</td>\n",
       "    </tr>\n",
       "</table>"
      ],
      "text/plain": [
       "[('Van Halen', 43),\n",
       " ('R.E.M.', 38),\n",
       " ('The Rolling Stones', 37),\n",
       " ('Nirvana', 35),\n",
       " ('Foo Fighters', 34),\n",
       " ('Eric Clapton', 34),\n",
       " (\"Guns N' Roses\", 32),\n",
       " ('Green Day', 32),\n",
       " ('Pearl Jam', 31),\n",
       " ('Amy Winehouse', 30)]"
      ]
     },
     "execution_count": 55,
     "metadata": {},
     "output_type": "execute_result"
    }
   ],
   "source": [
    "%%sql\n",
    "\n",
    "/* Table that filters customers from USA */\n",
    "\n",
    "WITH usa AS\n",
    "    (\n",
    "     SELECT invl.*\n",
    "        FROM customer AS c\n",
    "        INNER JOIN invoice AS i ON i.customer_id = c.customer_id\n",
    "        INNER JOIN invoice_line AS invl ON invl.invoice_id = i.invoice_id\n",
    "        WHERE c.country = 'USA'\n",
    "    )\n",
    "SELECT\n",
    "    at.name AS artist_name,\n",
    "    COUNT(*) AS times_purchased\n",
    "    FROM usa\n",
    "    INNER JOIN track AS t ON t.track_id = usa.track_id\n",
    "    INNER JOIN album AS a on a.album_id = t.album_id\n",
    "    INNER JOIN artist AS at on at.artist_id = a.artist_id\n",
    "    GROUP BY at.name\n",
    "    ORDER BY times_purchased DESC\n",
    "    LIMIT 10;"
   ]
  },
  {
   "cell_type": "markdown",
   "metadata": {},
   "source": [
    "# Purchase type : Albums or Individual Tracks\n",
    "\n",
    "Some customers buy all the tracks from an album whereas some buy only selected ones. This information can be useful for the company to analyse. Company can save money by buying only popular individaul tracks from the recorders rather than buying the complete album. This can possibly be a money saving option too which company can ponder about.\n",
    "\n",
    "This can also be done based on country, but in our example query, we will be considering a general scenario."
   ]
  },
  {
   "cell_type": "code",
   "execution_count": 29,
   "metadata": {},
   "outputs": [
    {
     "name": "stdout",
     "output_type": "stream",
     "text": [
      " * sqlite:///chinook.db\n",
      "Done.\n"
     ]
    },
    {
     "data": {
      "text/html": [
       "<table>\n",
       "    <tr>\n",
       "        <th>purchase_type</th>\n",
       "        <th>total_invoice</th>\n",
       "        <th>percentage</th>\n",
       "    </tr>\n",
       "    <tr>\n",
       "        <td>Album</td>\n",
       "        <td>201</td>\n",
       "        <td>32.73615635179153</td>\n",
       "    </tr>\n",
       "    <tr>\n",
       "        <td>Not Album</td>\n",
       "        <td>413</td>\n",
       "        <td>67.26384364820846</td>\n",
       "    </tr>\n",
       "</table>"
      ],
      "text/plain": [
       "[('Album', 201, 32.73615635179153), ('Not Album', 413, 67.26384364820846)]"
      ]
     },
     "execution_count": 29,
     "metadata": {},
     "output_type": "execute_result"
    }
   ],
   "source": [
    "%%sql\n",
    "\n",
    "/* Table that counts number of tracks per invoice */\n",
    "\n",
    "WITH invoice_tracks AS\n",
    "(\n",
    "    SELECT\n",
    "        il.invoice_id, \n",
    "        a.album_id,\n",
    "        COUNT(DISTINCT t.track_id) AS inv_tracks\n",
    "        FROM invoice_line AS il\n",
    "        INNER JOIN track AS t ON t.track_id = il.track_id\n",
    "        INNER JOIN album AS a ON a.album_id = t.album_id\n",
    "        GROUP BY il.invoice_id, a.album_id\n",
    "),\n",
    "\n",
    "/* Table that counts number of tracks per album */\n",
    "\n",
    "album_tracks AS\n",
    "(\n",
    "    SELECT\n",
    "        a.album_id,\n",
    "        COUNT(DISTINCT t.track_id) AS alb_tracks\n",
    "        FROM track AS t\n",
    "        INNER JOIN album AS a ON a.album_id = t.album_id\n",
    "        GROUP BY a.album_id\n",
    "),\n",
    "\n",
    "/* Table that split the invoice based on the tracks as 0 (not album) and \n",
    "1 (album). For eg. if an invoice has 12 tracks where 10 of them belongs to \n",
    "one album which also has a total of 10 tracks, and the remaining two tracks \n",
    "belongs to another album which has more tracks, then this invoice will be \n",
    "split into two, the 10 tracks will be considered as 1(album) and the other \n",
    "two tracks as 0(not album). */\n",
    "\n",
    "category AS\n",
    "(\n",
    "    SELECT *,\n",
    "        CASE\n",
    "            WHEN at.alb_tracks = it.inv_tracks AND at.album_id = it.album_id\n",
    "            THEN 1\n",
    "            ELSE 0 \n",
    "        END AS category\n",
    "        FROM album_tracks AS at\n",
    "        INNER JOIN invoice_tracks AS it ON it.album_id = at.album_id\n",
    "),\n",
    "\n",
    "/* Table that classify the invoice into 'Album' or 'Not Album' based on the \n",
    "above category table.If an invoice already has an album in that (means if \n",
    "its already assigned 1 in the category table above), then it will be cosidered\n",
    "as 'Album' otherwise 'Not Album'. */\n",
    "\n",
    "album_classifier AS\n",
    "(\n",
    "    SELECT \n",
    "        invoice_id,\n",
    "        CASE \n",
    "            WHEN MAX(category) = 0 THEN 'Not Album' \n",
    "            ELSE 'Album' \n",
    "        END AS purchase_type\n",
    "        FROM category\n",
    "        GROUP BY invoice_id\n",
    ")\n",
    "/* this is comment */\n",
    "\n",
    "SELECT \n",
    "    purchase_type,\n",
    "    COUNT(invoice_id) AS total_invoice,\n",
    "    100 * (CAST(COUNT(invoice_id) AS FLOAT) / (SELECT COUNT(invoice_id) FROM album_classifier))\n",
    "    AS percentage\n",
    "    FROM album_classifier\n",
    "    GROUP BY purchase_type;"
   ]
  },
  {
   "cell_type": "markdown",
   "metadata": {},
   "source": [
    "As it is clear from the above result that the customers purchasing a complete album is quite less, it may be a cheaper option for the company to consider in purchasing the tracks separately from the recorders than buying the whole album. "
   ]
  },
  {
   "cell_type": "markdown",
   "metadata": {},
   "source": [
    "# Stock details\n",
    "\n",
    "Now we got the idea of costomer preferences, we can find out how good is the company stocks matching against customer preferences.\n",
    "\n",
    "We already identified the popular genres and the artists among the costomers (of course in the USA market). But let us identify how the company stocks matches these demands.\n",
    "\n",
    "# Most common genres in the stock"
   ]
  },
  {
   "cell_type": "code",
   "execution_count": 46,
   "metadata": {},
   "outputs": [
    {
     "name": "stdout",
     "output_type": "stream",
     "text": [
      " * sqlite:///chinook.db\n",
      "Done.\n"
     ]
    },
    {
     "data": {
      "text/html": [
       "<table>\n",
       "    <tr>\n",
       "        <th>genre_name</th>\n",
       "        <th>total</th>\n",
       "    </tr>\n",
       "    <tr>\n",
       "        <td>Rock</td>\n",
       "        <td>1297</td>\n",
       "    </tr>\n",
       "    <tr>\n",
       "        <td>Latin</td>\n",
       "        <td>579</td>\n",
       "    </tr>\n",
       "    <tr>\n",
       "        <td>Metal</td>\n",
       "        <td>374</td>\n",
       "    </tr>\n",
       "    <tr>\n",
       "        <td>Alternative &amp; Punk</td>\n",
       "        <td>332</td>\n",
       "    </tr>\n",
       "    <tr>\n",
       "        <td>Jazz</td>\n",
       "        <td>130</td>\n",
       "    </tr>\n",
       "    <tr>\n",
       "        <td>TV Shows</td>\n",
       "        <td>93</td>\n",
       "    </tr>\n",
       "    <tr>\n",
       "        <td>Blues</td>\n",
       "        <td>81</td>\n",
       "    </tr>\n",
       "    <tr>\n",
       "        <td>Classical</td>\n",
       "        <td>74</td>\n",
       "    </tr>\n",
       "    <tr>\n",
       "        <td>Drama</td>\n",
       "        <td>64</td>\n",
       "    </tr>\n",
       "    <tr>\n",
       "        <td>R&amp;B/Soul</td>\n",
       "        <td>61</td>\n",
       "    </tr>\n",
       "</table>"
      ],
      "text/plain": [
       "[('Rock', 1297),\n",
       " ('Latin', 579),\n",
       " ('Metal', 374),\n",
       " ('Alternative & Punk', 332),\n",
       " ('Jazz', 130),\n",
       " ('TV Shows', 93),\n",
       " ('Blues', 81),\n",
       " ('Classical', 74),\n",
       " ('Drama', 64),\n",
       " ('R&B/Soul', 61)]"
      ]
     },
     "execution_count": 46,
     "metadata": {},
     "output_type": "execute_result"
    }
   ],
   "source": [
    "%%sql\n",
    "\n",
    "SELECT \n",
    "    g.name AS genre_name,\n",
    "    COUNT(*) AS total\n",
    "    FROM genre AS g \n",
    "    INNER JOIN track AS t ON t.genre_id = g.genre_id\n",
    "    GROUP BY g.name\n",
    "    ORDER BY total DESC\n",
    "    LIMIT 10;"
   ]
  },
  {
   "cell_type": "markdown",
   "metadata": {},
   "source": [
    "# Most popular artists in the stock"
   ]
  },
  {
   "cell_type": "code",
   "execution_count": 47,
   "metadata": {},
   "outputs": [
    {
     "name": "stdout",
     "output_type": "stream",
     "text": [
      " * sqlite:///chinook.db\n",
      "Done.\n"
     ]
    },
    {
     "data": {
      "text/html": [
       "<table>\n",
       "    <tr>\n",
       "        <th>artist_name</th>\n",
       "        <th>total</th>\n",
       "    </tr>\n",
       "    <tr>\n",
       "        <td>Iron Maiden</td>\n",
       "        <td>213</td>\n",
       "    </tr>\n",
       "    <tr>\n",
       "        <td>U2</td>\n",
       "        <td>135</td>\n",
       "    </tr>\n",
       "    <tr>\n",
       "        <td>Led Zeppelin</td>\n",
       "        <td>114</td>\n",
       "    </tr>\n",
       "    <tr>\n",
       "        <td>Metallica</td>\n",
       "        <td>112</td>\n",
       "    </tr>\n",
       "    <tr>\n",
       "        <td>Lost</td>\n",
       "        <td>92</td>\n",
       "    </tr>\n",
       "    <tr>\n",
       "        <td>Deep Purple</td>\n",
       "        <td>92</td>\n",
       "    </tr>\n",
       "    <tr>\n",
       "        <td>Pearl Jam</td>\n",
       "        <td>67</td>\n",
       "    </tr>\n",
       "    <tr>\n",
       "        <td>Lenny Kravitz</td>\n",
       "        <td>57</td>\n",
       "    </tr>\n",
       "    <tr>\n",
       "        <td>Various Artists</td>\n",
       "        <td>56</td>\n",
       "    </tr>\n",
       "    <tr>\n",
       "        <td>The Office</td>\n",
       "        <td>53</td>\n",
       "    </tr>\n",
       "</table>"
      ],
      "text/plain": [
       "[('Iron Maiden', 213),\n",
       " ('U2', 135),\n",
       " ('Led Zeppelin', 114),\n",
       " ('Metallica', 112),\n",
       " ('Lost', 92),\n",
       " ('Deep Purple', 92),\n",
       " ('Pearl Jam', 67),\n",
       " ('Lenny Kravitz', 57),\n",
       " ('Various Artists', 56),\n",
       " ('The Office', 53)]"
      ]
     },
     "execution_count": 47,
     "metadata": {},
     "output_type": "execute_result"
    }
   ],
   "source": [
    "%%sql\n",
    "\n",
    "SELECT \n",
    "    at.name AS artist_name,\n",
    "    COUNT(*) AS total\n",
    "    FROM artist AS at \n",
    "    INNER JOIN album AS a ON a.artist_id = at.artist_id\n",
    "    INNER JOIN track AS t ON t.album_id = a.album_id\n",
    "    GROUP BY at.name\n",
    "    ORDER BY total DESC\n",
    "    LIMIT 10;"
   ]
  },
  {
   "cell_type": "markdown",
   "metadata": {},
   "source": [
    "# Conclusion\n",
    "\n",
    "The goal of this project was to answer some important business questions using SQL that would help the company in making necessary changes in their future investment plans. We were able to do that successfully and also get insight on some other topics as well. We were able to understand the customer preferences and how much the company stocks are matching against those demands. We were also able to identify the potential markets where company can focus. We also identified one area where company probably could save money that is by purchasing tracks separately from the recorders than the whole album.  \n",
    "\n",
    "We can hand over our findings and analysis to the corresponding team who can further investigate before making final decisions."
   ]
  }
 ],
 "metadata": {
  "kernelspec": {
   "display_name": "Python 3",
   "language": "python",
   "name": "python3"
  },
  "language_info": {
   "codemirror_mode": {
    "name": "ipython",
    "version": 3
   },
   "file_extension": ".py",
   "mimetype": "text/x-python",
   "name": "python",
   "nbconvert_exporter": "python",
   "pygments_lexer": "ipython3",
   "version": "3.7.4"
  }
 },
 "nbformat": 4,
 "nbformat_minor": 2
}
